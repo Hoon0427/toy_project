{
 "cells": [
  {
   "cell_type": "code",
   "execution_count": 2,
   "metadata": {},
   "outputs": [],
   "source": [
    "import numpy as np\n",
    "import pandas as pd\n",
    "import statsmodels.api as sm\n",
    "import matplotlib.pyplot as plt"
   ]
  },
  {
   "cell_type": "code",
<<<<<<< HEAD
   "execution_count": 3,
   "metadata": {},
   "outputs": [],
   "source": [
    "erai = pd.read_excel('/home/ekim_reverse/PyCode/study/Python.study/toy_project/erai.xlsx')"
=======
   "execution_count": 2,
   "metadata": {},
   "outputs": [],
   "source": [
    "#!pip install statsmodels"
>>>>>>> b9b8c2bfcce5a306fb600207974d74ebe64184a9
   ]
  },
  {
   "cell_type": "code",
<<<<<<< HEAD
   "execution_count": 19,
   "metadata": {},
   "outputs": [],
   "source": [
    "erai_df = pd.DataFrame(erai)"
   ]
  },
  {
   "cell_type": "code",
   "execution_count": 20,
   "metadata": {},
   "outputs": [
    {
     "data": {
      "text/html": [
       "<div>\n",
       "<style scoped>\n",
       "    .dataframe tbody tr th:only-of-type {\n",
       "        vertical-align: middle;\n",
       "    }\n",
       "\n",
       "    .dataframe tbody tr th {\n",
       "        vertical-align: top;\n",
       "    }\n",
       "\n",
       "    .dataframe thead th {\n",
       "        text-align: right;\n",
       "    }\n",
       "</style>\n",
       "<table border=\"1\" class=\"dataframe\">\n",
       "  <thead>\n",
       "    <tr style=\"text-align: right;\">\n",
       "      <th></th>\n",
       "      <th>0</th>\n",
       "      <th>New_date</th>\n",
       "    </tr>\n",
       "  </thead>\n",
       "  <tbody>\n",
       "    <tr>\n",
       "      <th>0</th>\n",
       "      <td>무기, 주요, 가장, 모바일, 전략, 판매, 상품, 전반, 쇼핑, 공습, 변화, 바...</td>\n",
       "      <td>2015-01-01</td>\n",
       "    </tr>\n",
       "    <tr>\n",
       "      <th>1</th>\n",
       "      <td>감소, 무역수지, 경기, 호조, 류환, 둔화, 선박, 흑자, 무역, 기록, 대미, ...</td>\n",
       "      <td>2015-01-01</td>\n",
       "    </tr>\n",
       "    <tr>\n",
       "      <th>2</th>\n",
       "      <td>마이크로미터, 수준, 영역, 해외, 전달, 라며, 중국, 구조, 대의, 초반, 지속...</td>\n",
       "      <td>2015-01-01</td>\n",
       "    </tr>\n",
       "    <tr>\n",
       "      <th>3</th>\n",
       "      <td>탬플릿, 저장장치, 라스베이거스, 소형, 자외선, 도장, 소재, 서버, 화질, 구조...</td>\n",
       "      <td>2015-01-01</td>\n",
       "    </tr>\n",
       "    <tr>\n",
       "      <th>4</th>\n",
       "      <td>비관, 경기, 착륙, 수준, 금융시장, 소비, 홀로, 대비, 증가, 중국, 원화, ...</td>\n",
       "      <td>2015-01-01</td>\n",
       "    </tr>\n",
       "    <tr>\n",
       "      <th>...</th>\n",
       "      <td>...</td>\n",
       "      <td>...</td>\n",
       "    </tr>\n",
       "    <tr>\n",
       "      <th>54717</th>\n",
       "      <td>이세돌, 이유, 베팅, 먼저, 고무, 대의, 투자, 크기, 노벨상, 산업, 농담, ...</td>\n",
       "      <td>2016-03-31</td>\n",
       "    </tr>\n",
       "    <tr>\n",
       "      <th>54718</th>\n",
       "      <td>이세돌, 이유, 베팅, 먼저, 고무, 대의, 투자, 크기, 노벨상, 산업, 농담, ...</td>\n",
       "      <td>2016-03-31</td>\n",
       "    </tr>\n",
       "    <tr>\n",
       "      <th>54719</th>\n",
       "      <td>집중, 직원, 날인, 순이익, 사업, 샤프, 흑자, 변화, 기록, 의료기기, 부채,...</td>\n",
       "      <td>2016-03-31</td>\n",
       "    </tr>\n",
       "    <tr>\n",
       "      <th>54720</th>\n",
       "      <td>융합, 대구시, 우주복, 재편, 수준, 소재, 해외, 연구, 확보, 중국, 구조, ...</td>\n",
       "      <td>2016-03-31</td>\n",
       "    </tr>\n",
       "    <tr>\n",
       "      <th>54721</th>\n",
       "      <td>계기, 마침내, 사업, 원점, 소통, 지난, 유틸리티, 허가, 물류, 개혁, 생산,...</td>\n",
       "      <td>2016-03-31</td>\n",
       "    </tr>\n",
       "  </tbody>\n",
       "</table>\n",
       "<p>54722 rows × 2 columns</p>\n",
       "</div>"
      ],
      "text/plain": [
       "                                                       0   New_date\n",
       "0      무기, 주요, 가장, 모바일, 전략, 판매, 상품, 전반, 쇼핑, 공습, 변화, 바... 2015-01-01\n",
       "1      감소, 무역수지, 경기, 호조, 류환, 둔화, 선박, 흑자, 무역, 기록, 대미, ... 2015-01-01\n",
       "2      마이크로미터, 수준, 영역, 해외, 전달, 라며, 중국, 구조, 대의, 초반, 지속... 2015-01-01\n",
       "3      탬플릿, 저장장치, 라스베이거스, 소형, 자외선, 도장, 소재, 서버, 화질, 구조... 2015-01-01\n",
       "4      비관, 경기, 착륙, 수준, 금융시장, 소비, 홀로, 대비, 증가, 중국, 원화, ... 2015-01-01\n",
       "...                                                  ...        ...\n",
       "54717  이세돌, 이유, 베팅, 먼저, 고무, 대의, 투자, 크기, 노벨상, 산업, 농담, ... 2016-03-31\n",
       "54718  이세돌, 이유, 베팅, 먼저, 고무, 대의, 투자, 크기, 노벨상, 산업, 농담, ... 2016-03-31\n",
       "54719  집중, 직원, 날인, 순이익, 사업, 샤프, 흑자, 변화, 기록, 의료기기, 부채,... 2016-03-31\n",
       "54720  융합, 대구시, 우주복, 재편, 수준, 소재, 해외, 연구, 확보, 중국, 구조, ... 2016-03-31\n",
       "54721  계기, 마침내, 사업, 원점, 소통, 지난, 유틸리티, 허가, 물류, 개혁, 생산,... 2016-03-31\n",
       "\n",
       "[54722 rows x 2 columns]"
      ]
     },
     "execution_count": 20,
     "metadata": {},
     "output_type": "execute_result"
    }
   ],
   "source": [
    "erai_df"
=======
   "execution_count": 5,
   "metadata": {},
   "outputs": [
    {
     "ename": "AttributeError",
     "evalue": "module 'pandas' has no attribute 'read_exceᅵ'",
     "output_type": "error",
     "traceback": [
      "\u001b[0;31m---------------------------------------------------------------------------\u001b[0m",
      "\u001b[0;31mAttributeError\u001b[0m                            Traceback (most recent call last)",
      "\u001b[0;32m<ipython-input-5-324230a40632>\u001b[0m in \u001b[0;36m<module>\u001b[0;34m\u001b[0m\n\u001b[0;32m----> 1\u001b[0;31m \u001b[0mdata\u001b[0m \u001b[0;34m=\u001b[0m \u001b[0mpd\u001b[0m\u001b[0;34m.\u001b[0m\u001b[0mread_exceㅣ\u001b[0m\u001b[0;34m(\u001b[0m\u001b[0;34m'/home/ekim_reverse/python_study/online'\u001b[0m\u001b[0;34m)\u001b[0m\u001b[0;34m\u001b[0m\u001b[0;34m\u001b[0m\u001b[0m\n\u001b[0m",
      "\u001b[0;31mAttributeError\u001b[0m: module 'pandas' has no attribute 'read_exceᅵ'"
     ]
    }
   ],
   "source": [
    "data = pd.read_exceㅣ('/home/ekim_reverse/python_study/online')"
>>>>>>> b9b8c2bfcce5a306fb600207974d74ebe64184a9
   ]
  },
  {
   "cell_type": "code",
<<<<<<< HEAD
   "execution_count": 27,
   "metadata": {},
   "outputs": [],
   "source": [
    "gr = erai_df.groupby(by=['New_date'])"
   ]
  },
  {
   "cell_type": "code",
   "execution_count": 28,
   "metadata": {},
   "outputs": [
    {
     "data": {
      "text/plain": [
       "<pandas.core.groupby.generic.DataFrameGroupBy object at 0x7f4a831c85f8>"
      ]
     },
     "execution_count": 28,
     "metadata": {},
     "output_type": "execute_result"
    }
   ],
   "source": [
    "gr"
=======
   "execution_count": 6,
   "metadata": {},
   "outputs": [
    {
     "ename": "NameError",
     "evalue": "name 'indprod' is not defined",
     "output_type": "error",
     "traceback": [
      "\u001b[0;31m---------------------------------------------------------------------------\u001b[0m",
      "\u001b[0;31mNameError\u001b[0m                                 Traceback (most recent call last)",
      "\u001b[0;32m<ipython-input-6-13bf95770a49>\u001b[0m in \u001b[0;36m<module>\u001b[0;34m\u001b[0m\n\u001b[0;32m----> 1\u001b[0;31m \u001b[0mdta\u001b[0m \u001b[0;34m=\u001b[0m \u001b[0mpd\u001b[0m\u001b[0;34m.\u001b[0m\u001b[0mconcat\u001b[0m\u001b[0;34m(\u001b[0m\u001b[0;34m(\u001b[0m\u001b[0mindprod\u001b[0m\u001b[0;34m,\u001b[0m \u001b[0mincome\u001b[0m\u001b[0;34m,\u001b[0m \u001b[0msales\u001b[0m\u001b[0;34m,\u001b[0m \u001b[0memp\u001b[0m\u001b[0;34m)\u001b[0m\u001b[0;34m,\u001b[0m \u001b[0maxis\u001b[0m\u001b[0;34m=\u001b[0m\u001b[0;36m1\u001b[0m\u001b[0;34m)\u001b[0m\u001b[0;34m\u001b[0m\u001b[0;34m\u001b[0m\u001b[0m\n\u001b[0m\u001b[1;32m      2\u001b[0m \u001b[0mdta\u001b[0m\u001b[0;34m.\u001b[0m\u001b[0mcolumns\u001b[0m \u001b[0;34m=\u001b[0m \u001b[0;34m[\u001b[0m\u001b[0;34m'indprod'\u001b[0m\u001b[0;34m,\u001b[0m \u001b[0;34m'income'\u001b[0m\u001b[0;34m,\u001b[0m \u001b[0;34m'sales'\u001b[0m\u001b[0;34m,\u001b[0m \u001b[0;34m'emp'\u001b[0m\u001b[0;34m]\u001b[0m\u001b[0;34m\u001b[0m\u001b[0;34m\u001b[0m\u001b[0m\n",
      "\u001b[0;31mNameError\u001b[0m: name 'indprod' is not defined"
     ]
    }
   ],
   "source": [
    "dta = pd.concat((indprod, income, sales, emp), axis=1)\n",
    "dta.columns = ['indprod', 'income', 'sales', 'emp']"
>>>>>>> b9b8c2bfcce5a306fb600207974d74ebe64184a9
   ]
  },
  {
   "cell_type": "code",
<<<<<<< HEAD
   "execution_count": null,
   "metadata": {},
   "outputs": [],
   "source": []
  },
  {
   "cell_type": "code",
=======
>>>>>>> b9b8c2bfcce5a306fb600207974d74ebe64184a9
   "execution_count": null,
   "metadata": {},
   "outputs": [],
   "source": []
  }
 ],
 "metadata": {
  "kernelspec": {
   "display_name": "Python 3",
   "language": "python",
   "name": "python3"
  },
  "language_info": {
   "codemirror_mode": {
    "name": "ipython",
    "version": 3
   },
   "file_extension": ".py",
   "mimetype": "text/x-python",
   "name": "python",
   "nbconvert_exporter": "python",
   "pygments_lexer": "ipython3",
   "version": "3.6.9"
  }
 },
 "nbformat": 4,
 "nbformat_minor": 4
}
