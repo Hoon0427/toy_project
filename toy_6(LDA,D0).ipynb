{
 "cells": [
  {
   "cell_type": "code",
   "execution_count": null,
   "metadata": {},
   "outputs": [],
   "source": [
    "import re\n",
    "import numpy as np\n",
    "import pandas as pd\n",
    "from pprint import pprint\n",
    " \n",
    "# Gensim\n",
    "import gensim\n",
    "import gensim.corpora as corpora\n",
    "from gensim.utils import simple_preprocess\n",
    "from gensim.models import CoherenceModel\n",
    " \n",
    "# Enable logging for gensim - optional\n",
    "import logging\n",
    "logging.basicConfig(format='%(asctime)s : %(levelname)s : %(message)s', level=logging.ERROR)\n",
    " \n",
    "# Plotting tools\n",
    "import pyLDAvis\n",
    "import pyLDAvis.gensim # don't skip this\n",
    "import matplotlib.pyplot as plt\n",
    "%matplotlib inline\n",
    "    \n",
    "import warnings\n",
    "warnings.filterwarnings(\"ignore\",category=DeprecationWarning)"
   ]
  },
  {
   "cell_type": "code",
   "execution_count": null,
   "metadata": {},
   "outputs": [],
   "source": [
    "# 명사 파일 로드\n",
    "\n",
    "data=pd.read_excel('/home/ekim_reverse/PyCode/study/Python.study/toy_project/data_pos_nva.xlsx')"
   ]
  },
  {
   "cell_type": "code",
   "execution_count": null,
   "metadata": {},
   "outputs": [],
   "source": [
    "# 컬럼확인\n",
    "\n",
    "data.columns"
   ]
  },
  {
   "cell_type": "code",
   "execution_count": null,
   "metadata": {},
   "outputs": [],
   "source": [
    "# 빈도 수 2개 이하는 제거한 명사만 추출\n",
    "\n",
    "data_n=data['c_n_pos_n_more2']"
   ]
  },
  {
   "cell_type": "code",
   "execution_count": null,
   "metadata": {},
   "outputs": [],
   "source": [
    "# 결측치 제거\n",
    "\n",
    "data_n=data_n.dropna(axis=0)"
   ]
  },
  {
   "cell_type": "code",
   "execution_count": null,
   "metadata": {},
   "outputs": [],
   "source": [
    "# 확인\n",
    "\n",
    "data_n"
   ]
  },
  {
   "cell_type": "code",
   "execution_count": null,
   "metadata": {},
   "outputs": [],
   "source": [
    "# 리스트로 변환\n",
    "\n",
    "data_nl=data_n.tolist()"
   ]
  },
  {
   "cell_type": "code",
   "execution_count": null,
   "metadata": {},
   "outputs": [],
   "source": [
    "# 확인\n",
    "\n",
    "data_nl"
   ]
  },
  {
   "cell_type": "code",
   "execution_count": null,
   "metadata": {},
   "outputs": [],
   "source": [
    "# 뉴스 파일 로드\n",
    "\n",
    "data_all=pd.read_excel('/home/ekim_reverse/PyCode/study/Python.study/toy_project/online_news_nosw(1).xlsx')"
   ]
  },
  {
   "cell_type": "code",
   "execution_count": null,
   "metadata": {},
   "outputs": [],
   "source": [
    "data_all['Index']"
   ]
  },
  {
   "cell_type": "code",
   "execution_count": null,
   "metadata": {},
   "outputs": [],
   "source": [
    "data_all.columns"
   ]
  },
  {
   "cell_type": "code",
   "execution_count": null,
   "metadata": {},
   "outputs": [],
   "source": [
    "data_all['c_n_pos'][1]"
   ]
  },
  {
   "cell_type": "code",
   "execution_count": null,
   "metadata": {
    "scrolled": true
   },
   "outputs": [],
   "source": [
    "# n_pos_t 리스트안의 문자형 분리 & 특수문자 제거\n",
    "\n",
    "data_sp=[]\n",
    "for i in range(len(data_all)):\n",
    "    data_sp.append(data_all['c_n_pos'][i].split(','))\n",
    "    \n",
    "data_sp[0]"
   ]
  },
  {
   "cell_type": "code",
   "execution_count": null,
   "metadata": {},
   "outputs": [],
   "source": [
    "data_st=[]\n",
    "for i in range(len(data_sp)):\n",
    "    data_st2=[]\n",
    "    for j in data_sp[i]:\n",
    "        data_st2.append(j.lstrip('[').rstrip('\"]').strip(\" ' \"))\n",
    "    data_st.append(data_st2)\n",
    "\n",
    "data_st[0][1]"
   ]
  },
  {
   "cell_type": "code",
   "execution_count": null,
   "metadata": {},
   "outputs": [],
   "source": [
    "# data_nl을 세트로 변환\n",
    "\n",
    "a=set(data_nl)"
   ]
  },
  {
   "cell_type": "code",
   "execution_count": null,
   "metadata": {},
   "outputs": [],
   "source": [
    "# 명사파일로 필터링하여 n_pos_c 컬럼의 명사만 추출\n",
    "\n",
    "SW_del=[]\n",
    "for i in data_st:\n",
    "    b=set(i)\n",
    "    SW_del.append(b&a)"
   ]
  },
  {
   "cell_type": "code",
   "execution_count": null,
   "metadata": {
    "scrolled": true
   },
   "outputs": [],
   "source": [
    "# 확인\n",
    "\n",
    "SW_del"
   ]
  },
  {
   "cell_type": "code",
   "execution_count": null,
   "metadata": {},
   "outputs": [],
   "source": [
    "# set을 리스트로 변환\n",
    "\n",
    "SW_del2=[]\n",
    "for i in SW_del:\n",
    "    SW_del2.append(list(i))"
   ]
  },
  {
   "cell_type": "code",
   "execution_count": null,
   "metadata": {},
   "outputs": [],
   "source": [
    "SW_del2[55000]"
   ]
  },
  {
   "cell_type": "code",
   "execution_count": null,
   "metadata": {},
   "outputs": [],
   "source": [
    "# 사전 생성\n",
    "\n",
    "id2word = corpora.Dictionary(SW_del2)"
   ]
  },
  {
   "cell_type": "code",
   "execution_count": null,
   "metadata": {},
   "outputs": [],
   "source": [
    "# 말뭉치 생성\n",
    "\n",
    "texts = SW_del2"
   ]
  },
  {
   "cell_type": "code",
   "execution_count": null,
   "metadata": {},
   "outputs": [],
   "source": [
    "# Term Document Frequency\n",
    "\n",
    "corpus = [id2word.doc2bow(text) for text in texts]"
   ]
  },
  {
   "cell_type": "code",
   "execution_count": null,
   "metadata": {
    "scrolled": true
   },
   "outputs": [],
   "source": [
    "# 확인\n",
    "print(corpus[0])"
   ]
  },
  {
   "cell_type": "code",
   "execution_count": null,
   "metadata": {
    "scrolled": true
   },
   "outputs": [],
   "source": [
    "# 빈도수 표시\n",
    "\n",
    "[[(id2word[id], freq) for id, freq in cp] for cp in corpus]"
   ]
  },
  {
   "cell_type": "code",
   "execution_count": null,
   "metadata": {},
   "outputs": [],
   "source": [
    "# LDA 모델 생성\n",
    "\n",
    "lda_model = gensim.models.ldamodel.LdaModel(corpus=corpus,\n",
    "                                            id2word=id2word,\n",
    "                                            num_topics=20,\n",
    "                                            random_state=100,\n",
    "                                            update_every=1,\n",
    "                                            chunksize=100,\n",
    "                                            passes=10,\n",
    "                                            alpha='auto',\n",
    "                                            per_word_topics=True)"
   ]
  },
  {
   "cell_type": "code",
   "execution_count": null,
   "metadata": {},
   "outputs": [],
   "source": [
    "# 토픽 출력\n",
    "\n",
    "pprint(lda_model.print_topics())\n",
    "doc_lda = lda_model[corpus]"
   ]
  },
  {
   "cell_type": "code",
   "execution_count": null,
   "metadata": {},
   "outputs": [],
   "source": [
    "# Visualize the topics\n",
    "\n",
    "#pyLDAvis.enable_notebook()\n",
    "#vis = pyLDAvis.gensim.prepare(lda_model, corpus, id2word)\n",
    "#vis"
   ]
  },
  {
   "cell_type": "code",
   "execution_count": null,
   "metadata": {},
   "outputs": [],
   "source": [
    "topics = lda_model.print_topics(num_words=300) #topic 별 200개 keyword 보여줌 # 이 중 가중치가 0인것들 빼고 저장시킨다. \n",
    "for topic in topics:\n",
    "    print(topic)"
   ]
  },
  {
   "cell_type": "code",
   "execution_count": null,
   "metadata": {},
   "outputs": [],
   "source": [
    "topics[0][1]"
   ]
  },
  {
   "cell_type": "code",
   "execution_count": null,
   "metadata": {},
   "outputs": [],
   "source": [
    "topic_0_1=topics[0][1].split('+')"
   ]
  },
  {
   "cell_type": "code",
   "execution_count": null,
   "metadata": {},
   "outputs": [],
   "source": [
    "topic_0_1"
   ]
  },
  {
   "cell_type": "code",
   "execution_count": null,
   "metadata": {},
   "outputs": [],
   "source": [
    "float(topic_0_1[0].replace('*',' ').replace(\"\\\"\",\"\").split()[0])"
   ]
  },
  {
   "cell_type": "code",
   "execution_count": null,
   "metadata": {},
   "outputs": [],
   "source": [
    "topic_0_1[0].replace('*',' ').replace(\"\\\"\",\"\").split()"
   ]
  },
  {
   "cell_type": "code",
   "execution_count": null,
   "metadata": {},
   "outputs": [],
   "source": [
    "def make_keyword(data): #topic[0][1],topic[1],[1], . . . , topic[19][1] 이런식으로 넣음 \n",
    "    topic_sep1=data.split('+')\n",
    "    \n",
    "    topic_keyword=[]\n",
    "    topic_keyword_del=[]\n",
    "    \n",
    "    for i in range(300):\n",
    "        topic_sep1[i]=topic_sep1[i].replace('*',' ').replace(\"\\\"\",\"\").split()\n",
    "        #print(topic_sep1[i])\n",
    "        \n",
    "        if float(topic_sep1[i][0])>0: #가중치가 0보다 크면 keyword 에 저장 \n",
    "            topic_keyword.append(topic_sep1[i][1]) \n",
    "            \n",
    "        else:\n",
    "            topic_keyword_del.append(topic_sep1[i][1]) #혹시 del된 단어들 보고싶다면 여기서 \n",
    "            \n",
    "        \n",
    "    return topic_keyword"
   ]
  },
  {
   "cell_type": "code",
   "execution_count": null,
   "metadata": {},
   "outputs": [],
   "source": [
    "make_keyword(topics[0][1])"
   ]
  },
  {
   "cell_type": "code",
   "execution_count": null,
   "metadata": {},
   "outputs": [],
   "source": [
    "topic_keyword_all=[]\n",
    "\n",
    "for i in range(20):\n",
    "    topic_keyword_all.append(make_keyword(topics[i][1]))\n",
    "\n",
    "topic_keyword_all   "
   ]
  },
  {
   "cell_type": "code",
   "execution_count": null,
   "metadata": {},
   "outputs": [],
   "source": [
    "#topic 0번 \n",
    "topic_keyword_all[0]  "
   ]
  },
  {
   "cell_type": "code",
   "execution_count": null,
   "metadata": {},
   "outputs": [],
   "source": [
    "result=pd.DataFrame(topic_keyword_all)"
   ]
  },
  {
   "cell_type": "code",
   "execution_count": null,
   "metadata": {},
   "outputs": [],
   "source": [
    "result2=result.T"
   ]
  },
  {
   "cell_type": "code",
   "execution_count": null,
   "metadata": {},
   "outputs": [],
   "source": [
    "result"
   ]
  },
  {
   "cell_type": "code",
   "execution_count": null,
   "metadata": {},
   "outputs": [],
   "source": [
    "result2"
   ]
  },
  {
   "cell_type": "code",
   "execution_count": null,
   "metadata": {},
   "outputs": [],
   "source": [
    "# 엑셀 저장\n",
    "\n",
    "#result2.to_excel('C:\\\\Users\\\\LENOVO\\\\data\\\\topic_keyword.xlsx')"
   ]
  },
  {
   "cell_type": "code",
   "execution_count": null,
   "metadata": {},
   "outputs": [],
   "source": [
    "online_news_i2=pd.read_excel('C:\\\\Users\\\\LENOVO\\\\data\\\\T1.xlsx')"
   ]
  },
  {
   "cell_type": "code",
   "execution_count": null,
   "metadata": {},
   "outputs": [],
   "source": [
    "online_news_i2"
   ]
  },
  {
   "cell_type": "code",
   "execution_count": null,
   "metadata": {},
   "outputs": [],
   "source": [
    "online_news_i2.columns"
   ]
  },
  {
   "cell_type": "code",
   "execution_count": null,
   "metadata": {},
   "outputs": [],
   "source": [
    "for i in range(len(online_news_i2['sw_n'])):\n",
    "    tmp=online_news_i2['sw_n'][i].split(',')\n",
    "    online_news_i2['sw_n'][i]=tmp"
   ]
  },
  {
   "cell_type": "code",
   "execution_count": null,
   "metadata": {},
   "outputs": [],
   "source": [
    "topic0=[]\n",
    "topic1=[]\n",
    "topic2=[]\n",
    "topic3=[]\n",
    "topic4=[]\n",
    "topic5=[]\n",
    "topic6=[]\n",
    "topic7=[]\n",
    "topic8=[]\n",
    "topic9=[]\n",
    "topic10=[]\n",
    "topic11=[]\n",
    "topic12=[]\n",
    "topic13=[]\n",
    "topic14=[]\n",
    "topic15=[]\n",
    "topic16=[]\n",
    "topic17=[]\n",
    "topic18=[]\n",
    "topic19=[]\n",
    "\n",
    "for pos_list in online_news_i2['sw_n']: \n",
    "    tmp_topic0=0\n",
    "    tmp_topic1=0\n",
    "    tmp_topic2=0\n",
    "    tmp_topic3=0\n",
    "    tmp_topic4=0\n",
    "    tmp_topic5=0\n",
    "    tmp_topic6=0\n",
    "    tmp_topic7=0\n",
    "    tmp_topic8=0\n",
    "    tmp_topic9=0\n",
    "    tmp_topic10=0\n",
    "    tmp_topic11=0\n",
    "    tmp_topic12=0\n",
    "    tmp_topic13=0\n",
    "    tmp_topic14=0\n",
    "    tmp_topic15=0\n",
    "    tmp_topic16=0\n",
    "    tmp_topic17=0\n",
    "    tmp_topic18=0\n",
    "    tmp_topic19=0\n",
    "    \n",
    "    for pos_n in pos_list:\n",
    "        if pos_n in topic_keyword_all[0]: tmp_topic0+=1\n",
    "        elif pos_n in topic_keyword_all[1]: tmp_topic1+=1\n",
    "        elif pos_n in topic_keyword_all[2]: tmp_topic2+=1\n",
    "        elif pos_n in topic_keyword_all[3]: tmp_topic3+=1\n",
    "        elif pos_n in topic_keyword_all[4]: tmp_topic4+=1\n",
    "        elif pos_n in topic_keyword_all[5]: tmp_topic5+=1\n",
    "        elif pos_n in topic_keyword_all[6]: tmp_topic6+=1\n",
    "        elif pos_n in topic_keyword_all[7]: tmp_topic7+=1\n",
    "        elif pos_n in topic_keyword_all[8]: tmp_topic8+=1\n",
    "        elif pos_n in topic_keyword_all[9]: tmp_topic9+=1\n",
    "        elif pos_n in topic_keyword_all[10]: tmp_topic10+=1\n",
    "        elif pos_n in topic_keyword_all[11]: tmp_topic11+=1\n",
    "        elif pos_n in topic_keyword_all[12]: tmp_topic12+=1\n",
    "        elif pos_n in topic_keyword_all[13]: tmp_topic13+=1\n",
    "        elif pos_n in topic_keyword_all[14]: tmp_topic14+=1\n",
    "        elif pos_n in topic_keyword_all[15]: tmp_topic15+=1\n",
    "        elif pos_n in topic_keyword_all[16]: tmp_topic16+=1\n",
    "        elif pos_n in topic_keyword_all[17]: tmp_topic17+=1\n",
    "        elif pos_n in topic_keyword_all[18]: tmp_topic18+=1\n",
    "        else : tmp_topic19+=1\n",
    "        \n",
    "    topic0.append(tmp_topic0)    \n",
    "    topic1.append(tmp_topic1)\n",
    "    topic2.append(tmp_topic2)\n",
    "    topic3.append(tmp_topic3)\n",
    "    topic4.append(tmp_topic4)\n",
    "    topic5.append(tmp_topic5)\n",
    "    topic6.append(tmp_topic6)\n",
    "    topic7.append(tmp_topic7)\n",
    "    topic8.append(tmp_topic8)\n",
    "    topic9.append(tmp_topic9)\n",
    "    topic10.append(tmp_topic10)\n",
    "    topic11.append(tmp_topic11)\n",
    "    topic12.append(tmp_topic12)\n",
    "    topic13.append(tmp_topic13)\n",
    "    topic14.append(tmp_topic14)\n",
    "    topic15.append(tmp_topic15)\n",
    "    topic16.append(tmp_topic16)\n",
    "    topic17.append(tmp_topic17)\n",
    "    topic18.append(tmp_topic18)\n",
    "    topic19.append(tmp_topic19)"
   ]
  },
  {
   "cell_type": "code",
   "execution_count": null,
   "metadata": {},
   "outputs": [],
   "source": [
    "topic0"
   ]
  },
  {
   "cell_type": "code",
   "execution_count": null,
   "metadata": {},
   "outputs": [],
   "source": [
    "d0=pd.DataFrame({\"topic0\":topic0,\"topic1\":topic1,\"topic2\":topic2,\"topic3\":topic3,\"topic4\":topic4,\"topic5\":topic5,\"topic6\":topic6,\"topic7\":topic7,\"topic8\":topic8,\"topic9\":topic9,\"topic10\":topic10,\"topic11\":topic11,\"topic12\":topic12,\"topic13\":topic13,\"topic14\":topic14,\"topic15\":topic15,\"topic16\":topic16,\"topic17\":topic17,\"topic18\":topic18,\"topic19\":topic19 })"
   ]
  },
  {
   "cell_type": "code",
   "execution_count": null,
   "metadata": {},
   "outputs": [],
   "source": [
    "d0"
   ]
  },
  {
   "cell_type": "code",
   "execution_count": null,
   "metadata": {},
   "outputs": [],
   "source": [
    "# 엑셀 저장\n",
    "\n",
    "#d0.to_excel('C:\\\\Users\\\\LENOVO\\\\data\\\\d0.xlsx')"
   ]
  },
  {
   "cell_type": "code",
   "execution_count": null,
   "metadata": {},
   "outputs": [],
   "source": []
  },
  {
   "cell_type": "code",
   "execution_count": null,
   "metadata": {},
   "outputs": [],
   "source": []
  },
  {
   "cell_type": "code",
   "execution_count": null,
   "metadata": {},
   "outputs": [],
   "source": []
  },
  {
   "cell_type": "code",
   "execution_count": null,
   "metadata": {},
   "outputs": [],
   "source": []
  },
  {
   "cell_type": "code",
   "execution_count": null,
   "metadata": {},
   "outputs": [],
   "source": []
  }
 ],
 "metadata": {
  "kernelspec": {
   "display_name": "Python 3",
   "language": "python",
   "name": "python3"
  },
  "language_info": {
   "codemirror_mode": {
    "name": "ipython",
    "version": 3
   },
   "file_extension": ".py",
   "mimetype": "text/x-python",
   "name": "python",
   "nbconvert_exporter": "python",
   "pygments_lexer": "ipython3",
   "version": "3.6.9"
  }
 },
 "nbformat": 4,
 "nbformat_minor": 4
}
