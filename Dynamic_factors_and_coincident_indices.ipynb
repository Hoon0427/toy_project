{
 "cells": [
  {
   "cell_type": "code",
   "execution_count": 1,
   "metadata": {},
   "outputs": [],
   "source": [
    "# https://www.statsmodels.org/dev/examples/notebooks/generated/statespace_dfm_coincident.html\n",
    "# 회귀분석 및 시계열분석을 위한 패키지 scikit-learn과 statsmodels 중 statsmodels를 사용\n",
    "\n",
    "%matplotlib inline\n",
    "\n",
    "import numpy as np\n",
    "import pandas as pd\n",
    "import statsmodels.api as sm\n",
    "import matplotlib.pyplot as plt\n",
    "\n",
    "np.set_printoptions(precision=4, suppress=True, linewidth=120)"
   ]
  },
  {
   "cell_type": "code",
   "execution_count": null,
   "metadata": {},
   "outputs": [],
   "source": [
    "#!pip install pandas_datareader"
   ]
  },
  {
   "cell_type": "code",
   "execution_count": 2,
   "metadata": {
    "scrolled": true
   },
   "outputs": [
    {
     "name": "stderr",
     "output_type": "stream",
     "text": [
      "/home/ekim_reverse/.local/lib/python3.6/site-packages/pandas_datareader/compat/__init__.py:7: FutureWarning: pandas.util.testing is deprecated. Use the functions in the public API at pandas.testing instead.\n",
      "  from pandas.util.testing import assert_frame_equal\n"
     ]
    }
   ],
   "source": [
    "from pandas_datareader.data import DataReader\n",
    "\n",
    "# FRED로부터 Dataset 가져오기\n",
    "# FRED는 Federal Reserve Economic Data 의 약자\n",
    "# 세인트루이스 연방준비은행에서 운영하는 경제 통계 자료 데이터베이스임\n",
    "\n",
    "start = '1979-01-01'\n",
    "end = '2014-12-01'\n",
    "indprod = DataReader('IPMAN', 'fred', start=start, end=end)  # indprod : Industrial production\n",
    "income = DataReader('W875RX1', 'fred', start=start, end=end) # income : Real aggregate income\n",
    "sales = DataReader('CMRMTSPL', 'fred', start=start, end=end) # sales : Manufacturing and trade sales\n",
    "emp = DataReader('PAYEMS', 'fred', start=start, end=end)     # emp : Employees on non-farm payrolls "
   ]
  },
  {
   "cell_type": "code",
   "execution_count": 3,
   "metadata": {
    "collapsed": true
   },
   "outputs": [
    {
     "data": {
      "text/html": [
       "<div>\n",
       "<style scoped>\n",
       "    .dataframe tbody tr th:only-of-type {\n",
       "        vertical-align: middle;\n",
       "    }\n",
       "\n",
       "    .dataframe tbody tr th {\n",
       "        vertical-align: top;\n",
       "    }\n",
       "\n",
       "    .dataframe thead th {\n",
       "        text-align: right;\n",
       "    }\n",
       "</style>\n",
       "<table border=\"1\" class=\"dataframe\">\n",
       "  <thead>\n",
       "    <tr style=\"text-align: right;\">\n",
       "      <th></th>\n",
       "      <th>W875RX1</th>\n",
       "    </tr>\n",
       "    <tr>\n",
       "      <th>DATE</th>\n",
       "      <th></th>\n",
       "    </tr>\n",
       "  </thead>\n",
       "  <tbody>\n",
       "    <tr>\n",
       "      <th>1979-01-01</th>\n",
       "      <td>4952.2</td>\n",
       "    </tr>\n",
       "    <tr>\n",
       "      <th>1979-02-01</th>\n",
       "      <td>4980.5</td>\n",
       "    </tr>\n",
       "    <tr>\n",
       "      <th>1979-03-01</th>\n",
       "      <td>4995.5</td>\n",
       "    </tr>\n",
       "    <tr>\n",
       "      <th>1979-04-01</th>\n",
       "      <td>4946.8</td>\n",
       "    </tr>\n",
       "    <tr>\n",
       "      <th>1979-05-01</th>\n",
       "      <td>4932.3</td>\n",
       "    </tr>\n",
       "    <tr>\n",
       "      <th>...</th>\n",
       "      <td>...</td>\n",
       "    </tr>\n",
       "    <tr>\n",
       "      <th>2014-08-01</th>\n",
       "      <td>12179.2</td>\n",
       "    </tr>\n",
       "    <tr>\n",
       "      <th>2014-09-01</th>\n",
       "      <td>12222.6</td>\n",
       "    </tr>\n",
       "    <tr>\n",
       "      <th>2014-10-01</th>\n",
       "      <td>12281.3</td>\n",
       "    </tr>\n",
       "    <tr>\n",
       "      <th>2014-11-01</th>\n",
       "      <td>12349.4</td>\n",
       "    </tr>\n",
       "    <tr>\n",
       "      <th>2014-12-01</th>\n",
       "      <td>12421.1</td>\n",
       "    </tr>\n",
       "  </tbody>\n",
       "</table>\n",
       "<p>432 rows × 1 columns</p>\n",
       "</div>"
      ],
      "text/plain": [
       "            W875RX1\n",
       "DATE               \n",
       "1979-01-01   4952.2\n",
       "1979-02-01   4980.5\n",
       "1979-03-01   4995.5\n",
       "1979-04-01   4946.8\n",
       "1979-05-01   4932.3\n",
       "...             ...\n",
       "2014-08-01  12179.2\n",
       "2014-09-01  12222.6\n",
       "2014-10-01  12281.3\n",
       "2014-11-01  12349.4\n",
       "2014-12-01  12421.1\n",
       "\n",
       "[432 rows x 1 columns]"
      ]
     },
     "execution_count": 3,
     "metadata": {},
     "output_type": "execute_result"
    }
   ],
   "source": [
    "income"
   ]
  },
  {
   "cell_type": "code",
   "execution_count": 26,
   "metadata": {
    "collapsed": true
   },
   "outputs": [
    {
     "data": {
      "text/html": [
       "<div>\n",
       "<style scoped>\n",
       "    .dataframe tbody tr th:only-of-type {\n",
       "        vertical-align: middle;\n",
       "    }\n",
       "\n",
       "    .dataframe tbody tr th {\n",
       "        vertical-align: top;\n",
       "    }\n",
       "\n",
       "    .dataframe thead th {\n",
       "        text-align: right;\n",
       "    }\n",
       "</style>\n",
       "<table border=\"1\" class=\"dataframe\">\n",
       "  <thead>\n",
       "    <tr style=\"text-align: right;\">\n",
       "      <th></th>\n",
       "      <th>PAYEMS</th>\n",
       "    </tr>\n",
       "    <tr>\n",
       "      <th>DATE</th>\n",
       "      <th></th>\n",
       "    </tr>\n",
       "  </thead>\n",
       "  <tbody>\n",
       "    <tr>\n",
       "      <th>1979-01-01</th>\n",
       "      <td>88808</td>\n",
       "    </tr>\n",
       "    <tr>\n",
       "      <th>1979-02-01</th>\n",
       "      <td>89055</td>\n",
       "    </tr>\n",
       "    <tr>\n",
       "      <th>1979-03-01</th>\n",
       "      <td>89479</td>\n",
       "    </tr>\n",
       "    <tr>\n",
       "      <th>1979-04-01</th>\n",
       "      <td>89417</td>\n",
       "    </tr>\n",
       "    <tr>\n",
       "      <th>1979-05-01</th>\n",
       "      <td>89789</td>\n",
       "    </tr>\n",
       "    <tr>\n",
       "      <th>...</th>\n",
       "      <td>...</td>\n",
       "    </tr>\n",
       "    <tr>\n",
       "      <th>2014-08-01</th>\n",
       "      <td>139257</td>\n",
       "    </tr>\n",
       "    <tr>\n",
       "      <th>2014-09-01</th>\n",
       "      <td>139566</td>\n",
       "    </tr>\n",
       "    <tr>\n",
       "      <th>2014-10-01</th>\n",
       "      <td>139818</td>\n",
       "    </tr>\n",
       "    <tr>\n",
       "      <th>2014-11-01</th>\n",
       "      <td>140109</td>\n",
       "    </tr>\n",
       "    <tr>\n",
       "      <th>2014-12-01</th>\n",
       "      <td>140377</td>\n",
       "    </tr>\n",
       "  </tbody>\n",
       "</table>\n",
       "<p>432 rows × 1 columns</p>\n",
       "</div>"
      ],
      "text/plain": [
       "            PAYEMS\n",
       "DATE              \n",
       "1979-01-01   88808\n",
       "1979-02-01   89055\n",
       "1979-03-01   89479\n",
       "1979-04-01   89417\n",
       "1979-05-01   89789\n",
       "...            ...\n",
       "2014-08-01  139257\n",
       "2014-09-01  139566\n",
       "2014-10-01  139818\n",
       "2014-11-01  140109\n",
       "2014-12-01  140377\n",
       "\n",
       "[432 rows x 1 columns]"
      ]
     },
     "execution_count": 26,
     "metadata": {},
     "output_type": "execute_result"
    }
   ],
   "source": [
    "emp"
   ]
  },
  {
   "cell_type": "code",
   "execution_count": null,
   "metadata": {},
   "outputs": [],
   "source": [
    "# HMRMT = DataReader('HMRMT', 'fred', start='1967-01-01', end=end) \n",
    "# CMRMT = DataReader('CMRMT', 'fred', start='1997-01-01', end=end)\n",
    "\n",
    "# 14.8.12 이후에 CMRMT가 1997년부터 시작되도록 잘렸음\n",
    "# 따라서 HMRMT는 CMRMT의 앞부분임\n",
    "## MRMT : Real Manufacturing and Trade Industries Sales"
   ]
  },
  {
   "cell_type": "code",
   "execution_count": null,
   "metadata": {},
   "outputs": [],
   "source": [
    "# HMRMT_growth = HMRMT.diff() / HMRMT.shift()\n",
    "# sales = pd.Series(np.zeros(emp.shape[0]), index=emp.index)\n",
    "\n",
    "# # Fill in the recent entries (1997 onwards)\n",
    "# sales[CMRMT.index] = CMRMT\n",
    "\n",
    "# # Backfill the previous entries (pre 1997)\n",
    "# idx = sales.loc[:'1997-01-01'].index\n",
    "# for t in range(len(idx)-1, 0, -1):\n",
    "#     month = idx[t]\n",
    "#     prev_month = idx[t-1]\n",
    "#     sales.loc[prev_month] = sales.loc[month] / (1 + HMRMT_growth.loc[prev_month].values)"
   ]
  },
  {
   "cell_type": "code",
   "execution_count": 4,
   "metadata": {},
   "outputs": [],
   "source": [
    "dta = pd.concat((indprod, income, sales, emp), axis=1)  # concat으로 데이터를 묶음\n",
    "dta.columns = ['indprod', 'income', 'sales', 'emp']     # columns name"
   ]
  },
  {
   "cell_type": "code",
   "execution_count": 5,
   "metadata": {},
   "outputs": [
    {
     "data": {
      "text/html": [
       "<div>\n",
       "<style scoped>\n",
       "    .dataframe tbody tr th:only-of-type {\n",
       "        vertical-align: middle;\n",
       "    }\n",
       "\n",
       "    .dataframe tbody tr th {\n",
       "        vertical-align: top;\n",
       "    }\n",
       "\n",
       "    .dataframe thead th {\n",
       "        text-align: right;\n",
       "    }\n",
       "</style>\n",
       "<table border=\"1\" class=\"dataframe\">\n",
       "  <thead>\n",
       "    <tr style=\"text-align: right;\">\n",
       "      <th></th>\n",
       "      <th>indprod</th>\n",
       "      <th>income</th>\n",
       "      <th>sales</th>\n",
       "      <th>emp</th>\n",
       "    </tr>\n",
       "    <tr>\n",
       "      <th>DATE</th>\n",
       "      <th></th>\n",
       "      <th></th>\n",
       "      <th></th>\n",
       "      <th></th>\n",
       "    </tr>\n",
       "  </thead>\n",
       "  <tbody>\n",
       "    <tr>\n",
       "      <th>1979-01-01</th>\n",
       "      <td>48.1248</td>\n",
       "      <td>4952.2</td>\n",
       "      <td>593005.073</td>\n",
       "      <td>88808</td>\n",
       "    </tr>\n",
       "    <tr>\n",
       "      <th>1979-02-01</th>\n",
       "      <td>48.2899</td>\n",
       "      <td>4980.5</td>\n",
       "      <td>590202.467</td>\n",
       "      <td>89055</td>\n",
       "    </tr>\n",
       "    <tr>\n",
       "      <th>1979-03-01</th>\n",
       "      <td>48.5268</td>\n",
       "      <td>4995.5</td>\n",
       "      <td>607282.118</td>\n",
       "      <td>89479</td>\n",
       "    </tr>\n",
       "    <tr>\n",
       "      <th>1979-04-01</th>\n",
       "      <td>47.7418</td>\n",
       "      <td>4946.8</td>\n",
       "      <td>590898.041</td>\n",
       "      <td>89417</td>\n",
       "    </tr>\n",
       "    <tr>\n",
       "      <th>1979-05-01</th>\n",
       "      <td>48.3654</td>\n",
       "      <td>4932.3</td>\n",
       "      <td>603979.409</td>\n",
       "      <td>89789</td>\n",
       "    </tr>\n",
       "    <tr>\n",
       "      <th>...</th>\n",
       "      <td>...</td>\n",
       "      <td>...</td>\n",
       "      <td>...</td>\n",
       "      <td>...</td>\n",
       "    </tr>\n",
       "    <tr>\n",
       "      <th>2014-08-01</th>\n",
       "      <td>102.6082</td>\n",
       "      <td>12179.2</td>\n",
       "      <td>1366998.000</td>\n",
       "      <td>139257</td>\n",
       "    </tr>\n",
       "    <tr>\n",
       "      <th>2014-09-01</th>\n",
       "      <td>102.6413</td>\n",
       "      <td>12222.6</td>\n",
       "      <td>1366811.000</td>\n",
       "      <td>139566</td>\n",
       "    </tr>\n",
       "    <tr>\n",
       "      <th>2014-10-01</th>\n",
       "      <td>102.5636</td>\n",
       "      <td>12281.3</td>\n",
       "      <td>1368570.000</td>\n",
       "      <td>139818</td>\n",
       "    </tr>\n",
       "    <tr>\n",
       "      <th>2014-11-01</th>\n",
       "      <td>103.4288</td>\n",
       "      <td>12349.4</td>\n",
       "      <td>1372234.000</td>\n",
       "      <td>140109</td>\n",
       "    </tr>\n",
       "    <tr>\n",
       "      <th>2014-12-01</th>\n",
       "      <td>103.1127</td>\n",
       "      <td>12421.1</td>\n",
       "      <td>1380177.000</td>\n",
       "      <td>140377</td>\n",
       "    </tr>\n",
       "  </tbody>\n",
       "</table>\n",
       "<p>432 rows × 4 columns</p>\n",
       "</div>"
      ],
      "text/plain": [
       "             indprod   income        sales     emp\n",
       "DATE                                              \n",
       "1979-01-01   48.1248   4952.2   593005.073   88808\n",
       "1979-02-01   48.2899   4980.5   590202.467   89055\n",
       "1979-03-01   48.5268   4995.5   607282.118   89479\n",
       "1979-04-01   47.7418   4946.8   590898.041   89417\n",
       "1979-05-01   48.3654   4932.3   603979.409   89789\n",
       "...              ...      ...          ...     ...\n",
       "2014-08-01  102.6082  12179.2  1366998.000  139257\n",
       "2014-09-01  102.6413  12222.6  1366811.000  139566\n",
       "2014-10-01  102.5636  12281.3  1368570.000  139818\n",
       "2014-11-01  103.4288  12349.4  1372234.000  140109\n",
       "2014-12-01  103.1127  12421.1  1380177.000  140377\n",
       "\n",
       "[432 rows x 4 columns]"
      ]
     },
     "execution_count": 5,
     "metadata": {},
     "output_type": "execute_result"
    }
   ],
   "source": [
    "dta"
   ]
  },
  {
   "cell_type": "code",
   "execution_count": 6,
   "metadata": {},
   "outputs": [
    {
     "data": {
      "image/png": "[encoded data removed]",
      "text/plain": [
       "<Figure size 1080x432 with 4 Axes>"
      ]
     },
     "metadata": {
      "needs_background": "light"
     },
     "output_type": "display_data"
    }
   ],
   "source": [
    "dta.loc[:, 'indprod':'emp'].plot(subplots=True, layout=(2, 2), figsize=(15, 6));"
   ]
  },
  {
   "cell_type": "code",
   "execution_count": 7,
   "metadata": {},
   "outputs": [],
   "source": [
    "# Create log-differenced series\n",
    "dta['dln_indprod'] = (np.log(dta.indprod)).diff() * 100\n",
    "dta['dln_income'] = (np.log(dta.income)).diff() * 100\n",
    "dta['dln_sales'] = (np.log(dta.sales)).diff() * 100\n",
    "dta['dln_emp'] = (np.log(dta.emp)).diff() * 100\n",
    "\n",
    "# De-mean and standardize\n",
    "dta['std_indprod'] = (dta['dln_indprod'] - dta['dln_indprod'].mean()) / dta['dln_indprod'].std()\n",
    "dta['std_income'] = (dta['dln_income'] - dta['dln_income'].mean()) / dta['dln_income'].std()\n",
    "dta['std_sales'] = (dta['dln_sales'] - dta['dln_sales'].mean()) / dta['dln_sales'].std()\n",
    "dta['std_emp'] = (dta['dln_emp'] - dta['dln_emp'].mean()) / dta['dln_emp'].std()"
   ]
  },
  {
   "cell_type": "code",
   "execution_count": 10,
   "metadata": {},
   "outputs": [
    {
     "data": {
      "text/html": [
       "<div>\n",
       "<style scoped>\n",
       "    .dataframe tbody tr th:only-of-type {\n",
       "        vertical-align: middle;\n",
       "    }\n",
       "\n",
       "    .dataframe tbody tr th {\n",
       "        vertical-align: top;\n",
       "    }\n",
       "\n",
       "    .dataframe thead th {\n",
       "        text-align: right;\n",
       "    }\n",
       "</style>\n",
       "<table border=\"1\" class=\"dataframe\">\n",
       "  <thead>\n",
       "    <tr style=\"text-align: right;\">\n",
       "      <th></th>\n",
       "      <th>indprod</th>\n",
       "      <th>income</th>\n",
       "      <th>sales</th>\n",
       "      <th>emp</th>\n",
       "      <th>dln_indprod</th>\n",
       "      <th>dln_income</th>\n",
       "      <th>dln_sales</th>\n",
       "      <th>dln_emp</th>\n",
       "      <th>std_indprod</th>\n",
       "      <th>std_income</th>\n",
       "      <th>std_sales</th>\n",
       "      <th>std_emp</th>\n",
       "    </tr>\n",
       "    <tr>\n",
       "      <th>DATE</th>\n",
       "      <th></th>\n",
       "      <th></th>\n",
       "      <th></th>\n",
       "      <th></th>\n",
       "      <th></th>\n",
       "      <th></th>\n",
       "      <th></th>\n",
       "      <th></th>\n",
       "      <th></th>\n",
       "      <th></th>\n",
       "      <th></th>\n",
       "      <th></th>\n",
       "    </tr>\n",
       "  </thead>\n",
       "  <tbody>\n",
       "    <tr>\n",
       "      <th>1979-01-01</th>\n",
       "      <td>48.1248</td>\n",
       "      <td>4952.2</td>\n",
       "      <td>593005.073</td>\n",
       "      <td>88808</td>\n",
       "      <td>NaN</td>\n",
       "      <td>NaN</td>\n",
       "      <td>NaN</td>\n",
       "      <td>NaN</td>\n",
       "      <td>NaN</td>\n",
       "      <td>NaN</td>\n",
       "      <td>NaN</td>\n",
       "      <td>NaN</td>\n",
       "    </tr>\n",
       "    <tr>\n",
       "      <th>1979-02-01</th>\n",
       "      <td>48.2899</td>\n",
       "      <td>4980.5</td>\n",
       "      <td>590202.467</td>\n",
       "      <td>89055</td>\n",
       "      <td>0.342479</td>\n",
       "      <td>0.569837</td>\n",
       "      <td>-0.473731</td>\n",
       "      <td>0.277742</td>\n",
       "      <td>0.210402</td>\n",
       "      <td>0.532935</td>\n",
       "      <td>-0.722933</td>\n",
       "      <td>0.897058</td>\n",
       "    </tr>\n",
       "    <tr>\n",
       "      <th>1979-03-01</th>\n",
       "      <td>48.5268</td>\n",
       "      <td>4995.5</td>\n",
       "      <td>607282.118</td>\n",
       "      <td>89479</td>\n",
       "      <td>0.489379</td>\n",
       "      <td>0.300722</td>\n",
       "      <td>2.852781</td>\n",
       "      <td>0.474980</td>\n",
       "      <td>0.396960</td>\n",
       "      <td>0.130611</td>\n",
       "      <td>2.867823</td>\n",
       "      <td>1.928678</td>\n",
       "    </tr>\n",
       "    <tr>\n",
       "      <th>1979-04-01</th>\n",
       "      <td>47.7418</td>\n",
       "      <td>4946.8</td>\n",
       "      <td>590898.041</td>\n",
       "      <td>89417</td>\n",
       "      <td>-1.630890</td>\n",
       "      <td>-0.979660</td>\n",
       "      <td>-2.734997</td>\n",
       "      <td>-0.069314</td>\n",
       "      <td>-2.295708</td>\n",
       "      <td>-1.783550</td>\n",
       "      <td>-3.163824</td>\n",
       "      <td>-0.918155</td>\n",
       "    </tr>\n",
       "    <tr>\n",
       "      <th>1979-05-01</th>\n",
       "      <td>48.3654</td>\n",
       "      <td>4932.3</td>\n",
       "      <td>603979.409</td>\n",
       "      <td>89789</td>\n",
       "      <td>1.297736</td>\n",
       "      <td>-0.293549</td>\n",
       "      <td>2.189662</td>\n",
       "      <td>0.415165</td>\n",
       "      <td>1.423545</td>\n",
       "      <td>-0.757819</td>\n",
       "      <td>2.152029</td>\n",
       "      <td>1.615825</td>\n",
       "    </tr>\n",
       "    <tr>\n",
       "      <th>...</th>\n",
       "      <td>...</td>\n",
       "      <td>...</td>\n",
       "      <td>...</td>\n",
       "      <td>...</td>\n",
       "      <td>...</td>\n",
       "      <td>...</td>\n",
       "      <td>...</td>\n",
       "      <td>...</td>\n",
       "      <td>...</td>\n",
       "      <td>...</td>\n",
       "      <td>...</td>\n",
       "      <td>...</td>\n",
       "    </tr>\n",
       "    <tr>\n",
       "      <th>2014-08-01</th>\n",
       "      <td>102.6082</td>\n",
       "      <td>12179.2</td>\n",
       "      <td>1366998.000</td>\n",
       "      <td>139257</td>\n",
       "      <td>-0.523730</td>\n",
       "      <td>0.535126</td>\n",
       "      <td>0.187008</td>\n",
       "      <td>0.135093</td>\n",
       "      <td>-0.889654</td>\n",
       "      <td>0.481043</td>\n",
       "      <td>-0.009708</td>\n",
       "      <td>0.150960</td>\n",
       "    </tr>\n",
       "    <tr>\n",
       "      <th>2014-09-01</th>\n",
       "      <td>102.6413</td>\n",
       "      <td>12222.6</td>\n",
       "      <td>1366811.000</td>\n",
       "      <td>139566</td>\n",
       "      <td>0.032253</td>\n",
       "      <td>0.355712</td>\n",
       "      <td>-0.013681</td>\n",
       "      <td>0.221646</td>\n",
       "      <td>-0.183574</td>\n",
       "      <td>0.212821</td>\n",
       "      <td>-0.226338</td>\n",
       "      <td>0.603658</td>\n",
       "    </tr>\n",
       "    <tr>\n",
       "      <th>2014-10-01</th>\n",
       "      <td>102.5636</td>\n",
       "      <td>12281.3</td>\n",
       "      <td>1368570.000</td>\n",
       "      <td>139818</td>\n",
       "      <td>-0.075729</td>\n",
       "      <td>0.479108</td>\n",
       "      <td>0.128611</td>\n",
       "      <td>0.180397</td>\n",
       "      <td>-0.320708</td>\n",
       "      <td>0.397297</td>\n",
       "      <td>-0.072743</td>\n",
       "      <td>0.387912</td>\n",
       "    </tr>\n",
       "    <tr>\n",
       "      <th>2014-11-01</th>\n",
       "      <td>103.4288</td>\n",
       "      <td>12349.4</td>\n",
       "      <td>1372234.000</td>\n",
       "      <td>140109</td>\n",
       "      <td>0.840036</td>\n",
       "      <td>0.552970</td>\n",
       "      <td>0.267367</td>\n",
       "      <td>0.207911</td>\n",
       "      <td>0.842282</td>\n",
       "      <td>0.507720</td>\n",
       "      <td>0.077035</td>\n",
       "      <td>0.531822</td>\n",
       "    </tr>\n",
       "    <tr>\n",
       "      <th>2014-12-01</th>\n",
       "      <td>103.1127</td>\n",
       "      <td>12421.1</td>\n",
       "      <td>1380177.000</td>\n",
       "      <td>140377</td>\n",
       "      <td>-0.306089</td>\n",
       "      <td>0.578916</td>\n",
       "      <td>0.577168</td>\n",
       "      <td>0.191097</td>\n",
       "      <td>-0.613257</td>\n",
       "      <td>0.546509</td>\n",
       "      <td>0.411446</td>\n",
       "      <td>0.443877</td>\n",
       "    </tr>\n",
       "  </tbody>\n",
       "</table>\n",
       "<p>432 rows × 12 columns</p>\n",
       "</div>"
      ],
      "text/plain": [
       "             indprod   income        sales     emp  dln_indprod  dln_income  \\\n",
       "DATE                                                                          \n",
       "1979-01-01   48.1248   4952.2   593005.073   88808          NaN         NaN   \n",
       "1979-02-01   48.2899   4980.5   590202.467   89055     0.342479    0.569837   \n",
       "1979-03-01   48.5268   4995.5   607282.118   89479     0.489379    0.300722   \n",
       "1979-04-01   47.7418   4946.8   590898.041   89417    -1.630890   -0.979660   \n",
       "1979-05-01   48.3654   4932.3   603979.409   89789     1.297736   -0.293549   \n",
       "...              ...      ...          ...     ...          ...         ...   \n",
       "2014-08-01  102.6082  12179.2  1366998.000  139257    -0.523730    0.535126   \n",
       "2014-09-01  102.6413  12222.6  1366811.000  139566     0.032253    0.355712   \n",
       "2014-10-01  102.5636  12281.3  1368570.000  139818    -0.075729    0.479108   \n",
       "2014-11-01  103.4288  12349.4  1372234.000  140109     0.840036    0.552970   \n",
       "2014-12-01  103.1127  12421.1  1380177.000  140377    -0.306089    0.578916   \n",
       "\n",
       "            dln_sales   dln_emp  std_indprod  std_income  std_sales   std_emp  \n",
       "DATE                                                                           \n",
       "1979-01-01        NaN       NaN          NaN         NaN        NaN       NaN  \n",
       "1979-02-01  -0.473731  0.277742     0.210402    0.532935  -0.722933  0.897058  \n",
       "1979-03-01   2.852781  0.474980     0.396960    0.130611   2.867823  1.928678  \n",
       "1979-04-01  -2.734997 -0.069314    -2.295708   -1.783550  -3.163824 -0.918155  \n",
       "1979-05-01   2.189662  0.415165     1.423545   -0.757819   2.152029  1.615825  \n",
       "...               ...       ...          ...         ...        ...       ...  \n",
       "2014-08-01   0.187008  0.135093    -0.889654    0.481043  -0.009708  0.150960  \n",
       "2014-09-01  -0.013681  0.221646    -0.183574    0.212821  -0.226338  0.603658  \n",
       "2014-10-01   0.128611  0.180397    -0.320708    0.397297  -0.072743  0.387912  \n",
       "2014-11-01   0.267367  0.207911     0.842282    0.507720   0.077035  0.531822  \n",
       "2014-12-01   0.577168  0.191097    -0.613257    0.546509   0.411446  0.443877  \n",
       "\n",
       "[432 rows x 12 columns]"
      ]
     },
     "execution_count": 10,
     "metadata": {},
     "output_type": "execute_result"
    }
   ],
   "source": [
    "dta"
   ]
  },
  {
   "cell_type": "code",
   "execution_count": 12,
   "metadata": {
    "scrolled": false
   },
   "outputs": [
    {
     "name": "stderr",
     "output_type": "stream",
     "text": [
      "/home/ekim_reverse/.local/lib/python3.6/site-packages/statsmodels/tsa/base/tsa_model.py:162: ValueWarning: No frequency information was provided, so inferred frequency MS will be used.\n",
      "  % freq, ValueWarning)\n",
      "/home/ekim_reverse/.local/lib/python3.6/site-packages/statsmodels/base/model.py:568: ConvergenceWarning: Maximum Likelihood optimization failed to converge. Check mle_retvals\n",
      "  \"Check mle_retvals\", ConvergenceWarning)\n"
     ]
    }
   ],
   "source": [
    "# 표준화된 데이터 가져오기\n",
    "endog = dta.loc['1979-02-01':, 'std_indprod':'std_emp']\n",
    "\n",
    "# 모델 만들기\n",
    "mod = sm.tsa.DynamicFactor(endog, k_factors=1, factor_order=2, error_order=2) \n",
    "# # k_factors : The number of unobserved factors\n",
    "# # factor_order : The order of the vector autoregression followed by the factors.\n",
    "# # error_order : The order of the vector autoregression followed by the observation error component. \n",
    "# # Default is None, corresponding to white noise errors.\n",
    "\n",
    "initial_res = mod.fit(method='powell', disp=False)\n",
    "res = mod.fit(initial_res.params, disp=False)"
   ]
  },
  {
   "cell_type": "code",
   "execution_count": 13,
   "metadata": {},
   "outputs": [
    {
     "name": "stdout",
     "output_type": "stream",
     "text": [
      "                                             Statespace Model Results                                            \n",
      "=================================================================================================================\n",
      "Dep. Variable:     ['std_indprod', 'std_income', 'std_sales', 'std_emp']   No. Observations:                  431\n",
      "Model:                                 DynamicFactor(factors=1, order=2)   Log Likelihood               -2065.023\n",
      "                                                          + AR(2) errors   AIC                           4166.045\n",
      "Date:                                                   Fri, 22 May 2020   BIC                           4239.235\n",
      "Time:                                                           10:39:50   HQIC                          4194.943\n",
      "Sample:                                                       02-01-1979                                         \n",
      "                                                            - 12-01-2014                                         \n",
      "Covariance Type:                                                     opg                                         \n",
      "====================================================================================================\n",
      "                                       coef    std err          z      P>|z|      [0.025      0.975]\n",
      "----------------------------------------------------------------------------------------------------\n",
      "loading.f1.std_indprod              -0.8559      0.016    -52.120      0.000      -0.888      -0.824\n",
      "loading.f1.std_income               -0.2515      0.034     -7.425      0.000      -0.318      -0.185\n",
      "loading.f1.std_sales                -0.4757      0.024    -19.970      0.000      -0.522      -0.429\n",
      "loading.f1.std_emp                  -0.2721      0.027    -10.039      0.000      -0.325      -0.219\n",
      "sigma2.std_indprod                8.325e-15   1.38e-09   6.05e-06      1.000    -2.7e-09     2.7e-09\n",
      "sigma2.std_income                    0.9030      0.020     46.065      0.000       0.865       0.941\n",
      "sigma2.std_sales                     0.6023      0.035     17.299      0.000       0.534       0.671\n",
      "sigma2.std_emp                       0.3707      0.015     25.459      0.000       0.342       0.399\n",
      "L1.f1.f1                             0.2211      0.017     12.903      0.000       0.188       0.255\n",
      "L2.f1.f1                             0.2765      0.021     13.130      0.000       0.235       0.318\n",
      "L1.e(std_indprod).e(std_indprod)    -1.8926      0.002  -1148.812      0.000      -1.896      -1.889\n",
      "L2.e(std_indprod).e(std_indprod)    -1.0000   1.01e-05  -9.95e+04      0.000      -1.000      -1.000\n",
      "L1.e(std_income).e(std_income)      -0.1541      0.019     -8.280      0.000      -0.191      -0.118\n",
      "L2.e(std_income).e(std_income)      -0.0874      0.020     -4.263      0.000      -0.128      -0.047\n",
      "L1.e(std_sales).e(std_sales)        -0.4418      0.031    -14.373      0.000      -0.502      -0.382\n",
      "L2.e(std_sales).e(std_sales)        -0.2077      0.021     -9.982      0.000      -0.248      -0.167\n",
      "L1.e(std_emp).e(std_emp)             0.3047      0.034      8.980      0.000       0.238       0.371\n",
      "L2.e(std_emp).e(std_emp)             0.4799      0.029     16.623      0.000       0.423       0.536\n",
      "========================================================================================================\n",
      "Ljung-Box (Q):          87.80, 34.95, 68.97, 70.65   Jarque-Bera (JB):   193.99, 9286.91, 20.12, 4166.66\n",
      "Prob(Q):                    0.00, 0.70, 0.00, 0.00   Prob(JB):                    0.00, 0.00, 0.00, 0.00\n",
      "Heteroskedasticity (H):     0.80, 4.82, 0.47, 0.41   Skew:                       0.07, -0.98, 0.19, 0.86\n",
      "Prob(H) (two-sided):        0.19, 0.00, 0.00, 0.00   Kurtosis:                  6.28, 25.66, 3.99, 18.13\n",
      "========================================================================================================\n",
      "\n",
      "Warnings:\n",
      "[1] Covariance matrix calculated using the outer product of gradients (complex-step).\n",
      "[2] Covariance matrix is singular or near-singular, with condition number 2.48e+16. Standard errors may be unstable.\n"
     ]
    }
   ],
   "source": [
    "print(res.summary(separate_params=False))"
   ]
  },
  {
   "cell_type": "code",
   "execution_count": 29,
   "metadata": {
    "scrolled": false
   },
   "outputs": [
    {
     "data": {
      "image/png": "[encoded data removed]",
      "text/plain": [
       "<Figure size 936x216 with 1 Axes>"
      ]
     },
     "metadata": {
      "needs_background": "light"
     },
     "output_type": "display_data"
    }
   ],
   "source": [
    "fig, ax = plt.subplots(figsize=(13,3))\n",
    "\n",
    "# Plot the factor\n",
    "dates = endog.index._mpl_repr()\n",
    "ax.plot(dates, res.factors.filtered[0], label='Factor')\n",
    "ax.legend()\n",
    "\n",
    "# 경기침체 그래프 추가 (회색)\n",
    "rec = DataReader('USREC', 'fred', start=start, end=end)\n",
    "ylim = ax.get_ylim()\n",
    "ax.fill_between(dates[:-3], ylim[0], ylim[1], rec.values[:-4,0], facecolor='k', alpha=0.1);"
   ]
  },
  {
   "cell_type": "code",
   "execution_count": 37,
   "metadata": {},
   "outputs": [
    {
     "data": {
      "text/plain": [
       "array([-0.029 , -0.0596,  0.3239, -0.1981,  0.0118,  0.0172,  0.2644, -0.0067, -0.0389,  0.0881, -0.0367, -0.0479,\n",
       "        0.0703,  0.1568,  0.4258,  0.5866,  0.3211,  0.2369, -0.1043, -0.2666, -0.3043, -0.2958, -0.0229,  0.096 ,\n",
       "        0.1188, -0.0161, -0.0675, -0.0461,  0.1222, -0.0086,  0.0232,  0.1137,  0.2047,  0.2527,  0.3602,  0.4541,\n",
       "       -0.4405,  0.17  ,  0.1608,  0.0626,  0.0626,  0.0576,  0.1815,  0.0981,  0.2241,  0.1779,  0.0754, -0.3852,\n",
       "        0.0302, -0.1321, -0.1745, -0.2114, -0.0977, -0.2587, -0.0799, -0.3455, -0.1437, -0.057 , -0.0216, -0.2943,\n",
       "       -0.1634, -0.0346, -0.0858,  0.0123, -0.0727, -0.0286, -0.0102,  0.0822, -0.0348, -0.0364, -0.0167,  0.0795,\n",
       "        0.1273, -0.133 ,  0.1271, -0.0207,  0.0119,  0.1321, -0.076 ,  0.01  ,  0.0626, -0.07  , -0.0634, -0.1444,\n",
       "        0.0963,  0.108 , -0.0089,  0.0092,  0.0918, -0.0668, -0.013 , -0.0291, -0.0144, -0.0748, -0.1014,  0.0688,\n",
       "       -0.2212,  0.0272, -0.0798, -0.0833, -0.043 , -0.0855, -0.1055, -0.0492, -0.2816, -0.0531, -0.092 ,  0.0624,\n",
       "       -0.0094, -0.0345, -0.1103,  0.0329,  0.0177,  0.0126,  0.0342, -0.0442, -0.0532, -0.0158, -0.0659, -0.1067,\n",
       "        0.1935,  0.0838, -0.0419,  0.2166, -0.0226,  0.2422, -0.1301,  0.0582,  0.085 , -0.0262,  0.038 ,  0.0554,\n",
       "       -0.212 , -0.0776,  0.089 , -0.0029, -0.0351,  0.083 , -0.0478,  0.0548,  0.1562,  0.2509,  0.1533,  0.1739,\n",
       "        0.1548,  0.1415, -0.02  , -0.1137, -0.1434, -0.0605,  0.0235, -0.1896,  0.0775,  0.0587,  0.0573,  0.1437,\n",
       "       -0.1547, -0.1363, -0.0886, -0.0525, -0.0404, -0.1175,  0.0904,  0.0213, -0.0876, -0.0568,  0.0678, -0.1541,\n",
       "        0.0094,  0.0586, -0.0564,  0.0306,  0.0781, -0.0256,  0.0524, -0.0786, -0.1435, -0.0248, -0.0981,  0.0179,\n",
       "       -0.0096, -0.1964, -0.13  , -0.094 , -0.02  , -0.0633, -0.0875, -0.071 , -0.1391, -0.1237, -0.1582, -0.0122,\n",
       "        0.0911, -0.0123,  0.0492,  0.011 , -0.0724,  0.1654, -0.192 , -0.1165,  0.0246,  0.019 , -0.0481,  0.1618,\n",
       "       -0.2371,  0.0477, -0.1544, -0.1277, -0.1483, -0.0375, -0.0493, -0.1273,  0.057 , -0.11  , -0.1383,  0.0389,\n",
       "       -0.2376, -0.1372,  0.0507, -0.0898, -0.0876, -0.086 , -0.1929, -0.1344, -0.1028, -0.1895, -0.0254, -0.1449,\n",
       "        0.0288,  0.0559, -0.0512, -0.0572,  0.1677,  0.1301, -0.4326,  0.0787, -0.1585,  0.0191, -0.0827, -0.022 ,\n",
       "       -0.1246,  0.042 , -0.036 , -0.1399,  0.102 , -0.074 , -0.0455,  0.1045, -0.2397, -0.081 , -0.0948,  0.0099,\n",
       "       -0.0249, -0.0694, -0.118 ,  0.058 , -0.0151,  0.0196,  0.1413, -0.0495,  0.075 ,  0.0703,  0.1382,  0.1227,\n",
       "        0.1398,  0.05  ,  0.108 ,  0.1505,  0.1596,  0.1273,  0.1024,  0.0779,  0.1247,  0.0851, -0.0285, -0.0667,\n",
       "        0.0204, -0.1142, -0.0178, -0.0677, -0.1725,  0.0877,  0.0011, -0.0079,  0.1102, -0.0691,  0.1496, -0.1115,\n",
       "        0.0483,  0.0056,  0.1676,  0.0231, -0.0732, -0.0099,  0.0723, -0.1029,  0.0068, -0.1488,  0.0711,  0.0216,\n",
       "       -0.0899,  0.0486, -0.0229, -0.1245,  0.1891, -0.1385, -0.0448,  0.0226, -0.1731,  0.049 , -0.1146, -0.0889,\n",
       "       -0.1435,  0.1348, -0.0449, -0.0139, -0.0056,  0.0936, -0.0471,  0.2107, -0.2326, -0.1325,  0.0119, -0.1238,\n",
       "        0.1014,  0.0444, -0.0578,  0.1034, -0.0522,  0.0869, -0.1156,  0.0299,  0.0874,  0.0317, -0.2482,  0.1293,\n",
       "       -0.0391, -0.1411, -0.082 ,  0.029 , -0.0217, -0.0054,  0.0859, -0.0652,  0.0896, -0.0756,  0.0015,  0.1081,\n",
       "        0.1375,  0.0933,  0.2173,  0.1308,  0.143 ,  0.2523,  0.2537,  0.6788,  0.1384,  0.4528,  0.6857,  0.5752,\n",
       "        0.0535,  0.3394,  0.1554,  0.2176,  0.0901, -0.2465, -0.1923, -0.114 , -0.0115, -0.1364,  0.0503, -0.1777,\n",
       "        0.0183, -0.1901, -0.1285, -0.2288,  0.0643, -0.0927,  0.0196,  0.012 ,  0.03  ,  0.015 , -0.0505, -0.0071,\n",
       "       -0.0017, -0.0735,  0.1227,  0.0211, -0.0071, -0.068 , -0.0469, -0.0208, -0.0696,  0.079 , -0.0875, -0.1401,\n",
       "       -0.0131,  0.0962, -0.0595,  0.0777, -0.0099,  0.0412,  0.0668,  0.0421,  0.0826, -0.0862, -0.1322,  0.1059,\n",
       "       -0.0742,  0.0586,  0.0921, -0.0144, -0.0127,  0.2033, -0.1156,  0.    ,  0.0255,  0.014 ,  0.053 ,  0.2317,\n",
       "       -0.1487, -0.1267,  0.0531, -0.012 , -0.0461, -0.0362,  0.106 ,  0.0435,  0.0302, -0.1076,  0.0806])"
      ]
     },
     "execution_count": 37,
     "metadata": {},
     "output_type": "execute_result"
    }
   ],
   "source": [
    "res.factors.filtered[0]"
   ]
  },
  {
   "cell_type": "code",
   "execution_count": 36,
   "metadata": {
    "collapsed": true
   },
   "outputs": [
    {
     "data": {
      "text/plain": [
       "(-0.4968588622733892, 0.7419658097645059)"
      ]
     },
     "execution_count": 36,
     "metadata": {},
     "output_type": "execute_result"
    }
   ],
   "source": [
    "ylim"
   ]
  },
  {
   "cell_type": "raw",
   "metadata": {},
   "source": []
  },
  {
   "cell_type": "code",
   "execution_count": 18,
   "metadata": {},
   "outputs": [
    {
     "data": {
      "image/png": "[encoded data removed]",
      "text/plain": [
       "<Figure size 576x144 with 1 Axes>"
      ]
     },
     "metadata": {
      "needs_background": "light"
     },
     "output_type": "display_data"
    }
   ],
   "source": [
    "res.plot_coefficients_of_determination(figsize=(8,2));"
   ]
  },
  {
   "cell_type": "code",
   "execution_count": 19,
   "metadata": {},
   "outputs": [
    {
     "data": {
      "image/png": "[encoded data removed]",
      "text/plain": [
       "<Figure size 936x216 with 1 Axes>"
      ]
     },
     "metadata": {
      "needs_background": "light"
     },
     "output_type": "display_data"
    }
   ],
   "source": [
    "usphci = DataReader('USPHCI', 'fred', start='1979-01-01', end='2014-12-01')['USPHCI']\n",
    "usphci.plot(figsize=(13,3));\n",
    "\n",
    "# USPHCI : Coincident Economic Activity Index for the United States"
   ]
  },
  {
   "cell_type": "code",
   "execution_count": 38,
   "metadata": {},
   "outputs": [
    {
     "data": {
      "text/plain": [
       "DATE\n",
       "1979-01-01     45.49\n",
       "1979-02-01     45.63\n",
       "1979-03-01     45.88\n",
       "1979-04-01     45.95\n",
       "1979-05-01     46.17\n",
       "               ...  \n",
       "2014-08-01    110.85\n",
       "2014-09-01    111.24\n",
       "2014-10-01    111.63\n",
       "2014-11-01    111.87\n",
       "2014-12-01    112.32\n",
       "Name: USPHCI, Length: 432, dtype: float64"
      ]
     },
     "execution_count": 38,
     "metadata": {},
     "output_type": "execute_result"
    }
   ],
   "source": [
    "usphci"
   ]
  },
  {
   "cell_type": "code",
   "execution_count": 42,
   "metadata": {},
   "outputs": [
    {
     "data": {
      "text/plain": [
       "array([[ 0.2211,  0.2765,  0.    ,  0.    ,  0.    ,  0.    ,  0.    ,  0.    ,  0.    ,  0.    ],\n",
       "       [ 1.    ,  0.    ,  0.    ,  0.    ,  0.    ,  0.    ,  0.    ,  0.    ,  0.    ,  0.    ],\n",
       "       [ 0.    ,  0.    , -1.8926,  0.    ,  0.    ,  0.    , -1.    ,  0.    ,  0.    ,  0.    ],\n",
       "       [ 0.    ,  0.    ,  0.    , -0.1541,  0.    ,  0.    ,  0.    , -0.0874,  0.    ,  0.    ],\n",
       "       [ 0.    ,  0.    ,  0.    ,  0.    , -0.4418,  0.    ,  0.    ,  0.    , -0.2077,  0.    ],\n",
       "       [ 0.    ,  0.    ,  0.    ,  0.    ,  0.    ,  0.3047,  0.    ,  0.    ,  0.    ,  0.4799],\n",
       "       [ 0.    ,  0.    ,  1.    ,  0.    ,  0.    ,  0.    ,  0.    ,  0.    ,  0.    ,  0.    ],\n",
       "       [ 0.    ,  0.    ,  0.    ,  1.    ,  0.    ,  0.    ,  0.    ,  0.    ,  0.    ,  0.    ],\n",
       "       [ 0.    ,  0.    ,  0.    ,  0.    ,  1.    ,  0.    ,  0.    ,  0.    ,  0.    ,  0.    ],\n",
       "       [ 0.    ,  0.    ,  0.    ,  0.    ,  0.    ,  1.    ,  0.    ,  0.    ,  0.    ,  0.    ]])"
      ]
     },
     "execution_count": 42,
     "metadata": {},
     "output_type": "execute_result"
    }
   ],
   "source": [
    "mod.ssm['transition']"
   ]
  },
  {
   "cell_type": "code",
   "execution_count": 20,
   "metadata": {},
   "outputs": [],
   "source": [
    "dusphci = usphci.diff()[1:].values\n",
    "def compute_coincident_index(mod, res):\n",
    "    # Estimate W(1)\n",
    "    spec = res.specification\n",
    "    design = mod.ssm['design']\n",
    "    transition = mod.ssm['transition']\n",
    "    ss_kalman_gain = res.filter_results.kalman_gain[:,:,-1]  # kalman filter\n",
    "    k_states = ss_kalman_gain.shape[0]\n",
    "\n",
    "    W1 = np.linalg.inv(np.eye(k_states) - np.dot(\n",
    "        np.eye(k_states) - np.dot(ss_kalman_gain, design),\n",
    "        transition\n",
    "    )).dot(ss_kalman_gain)[0]\n",
    "\n",
    "    # Compute the factor mean vector\n",
    "    factor_mean = np.dot(W1, dta.loc['1972-02-01':, 'dln_indprod':'dln_emp'].mean())\n",
    "\n",
    "    # Normalize the factors\n",
    "    factor = res.factors.filtered[0]\n",
    "    factor *= np.std(usphci.diff()[1:]) / np.std(factor)\n",
    "\n",
    "    # Compute the coincident index\n",
    "    coincident_index = np.zeros(mod.nobs+1)\n",
    "    # The initial value is arbitrary; here it is set to\n",
    "    # facilitate comparison\n",
    "    coincident_index[0] = usphci.iloc[0] * factor_mean / dusphci.mean()\n",
    "    for t in range(0, mod.nobs):\n",
    "        coincident_index[t+1] = coincident_index[t] + factor[t] + factor_mean\n",
    "\n",
    "    # Attach dates / Series\n",
    "    coincident_index = pd.Series(coincident_index, index=dta.index).iloc[1:]\n",
    "\n",
    "    # Normalize to use the same base year as USPHCI\n",
    "    coincident_index *= (usphci.loc['1992-07-01'] / coincident_index.loc['1992-07-01'])\n",
    "\n",
    "    return coincident_index"
   ]
  },
  {
   "cell_type": "code",
   "execution_count": 21,
   "metadata": {
    "scrolled": true
   },
   "outputs": [
    {
     "data": {
      "image/png": "[encoded data removed]",
      "text/plain": [
       "<Figure size 936x216 with 1 Axes>"
      ]
     },
     "metadata": {
      "needs_background": "light"
     },
     "output_type": "display_data"
    }
   ],
   "source": [
    "fig, ax = plt.subplots(figsize=(13,3))\n",
    "\n",
    "# Compute the index\n",
    "coincident_index = compute_coincident_index(mod, res)\n",
    "\n",
    "# Plot the factor\n",
    "dates = endog.index._mpl_repr()\n",
    "ax.plot(dates, coincident_index, label='Coincident index')\n",
    "ax.plot(usphci.index._mpl_repr(), usphci, label='USPHCI')\n",
    "ax.legend(loc='lower right')\n",
    "\n",
    "# Retrieve and also plot the NBER recession indicators\n",
    "ylim = ax.get_ylim()\n",
    "ax.fill_between(dates[:-3], ylim[0], ylim[1], rec.values[:-4,0], facecolor='k', alpha=0.1);"
   ]
  },
  {
   "cell_type": "code",
   "execution_count": 22,
   "metadata": {},
   "outputs": [],
   "source": [
    "from statsmodels.tsa.statespace import tools\n",
    "class ExtendedDFM(sm.tsa.DynamicFactor):\n",
    "    def __init__(self, endog, **kwargs):\n",
    "            # Setup the model as if we had a factor order of 4\n",
    "            super(ExtendedDFM, self).__init__(\n",
    "                endog, k_factors=1, factor_order=4, error_order=2,\n",
    "                **kwargs)\n",
    "\n",
    "            # Note: `self.parameters` is an ordered dict with the\n",
    "            # keys corresponding to parameter types, and the values\n",
    "            # the number of parameters of that type.\n",
    "            # Add the new parameters\n",
    "            self.parameters['new_loadings'] = 3\n",
    "\n",
    "            # Cache a slice for the location of the 4 factor AR\n",
    "            # parameters (a_1, ..., a_4) in the full parameter vector\n",
    "            offset = (self.parameters['factor_loadings'] +\n",
    "                      self.parameters['exog'] +\n",
    "                      self.parameters['error_cov'])\n",
    "            self._params_factor_ar = np.s_[offset:offset+2]\n",
    "            self._params_factor_zero = np.s_[offset+2:offset+4]\n",
    "\n",
    "    @property\n",
    "    def start_params(self):\n",
    "        # Add three new loading parameters to the end of the parameter\n",
    "        # vector, initialized to zeros (for simplicity; they could\n",
    "        # be initialized any way you like)\n",
    "        return np.r_[super(ExtendedDFM, self).start_params, 0, 0, 0]\n",
    "\n",
    "    @property\n",
    "    def param_names(self):\n",
    "        # Add the corresponding names for the new loading parameters\n",
    "        #  (the name can be anything you like)\n",
    "        return super(ExtendedDFM, self).param_names + [\n",
    "            'loading.L%d.f1.%s' % (i, self.endog_names[3]) for i in range(1,4)]\n",
    "\n",
    "    def transform_params(self, unconstrained):\n",
    "            # Perform the typical DFM transformation (w/o the new parameters)\n",
    "            constrained = super(ExtendedDFM, self).transform_params(\n",
    "            unconstrained[:-3])\n",
    "\n",
    "            # Redo the factor AR constraint, since we only want an AR(2),\n",
    "            # and the previous constraint was for an AR(4)\n",
    "            ar_params = unconstrained[self._params_factor_ar]\n",
    "            constrained[self._params_factor_ar] = (\n",
    "                tools.constrain_stationary_univariate(ar_params))\n",
    "\n",
    "            # Return all the parameters\n",
    "            return np.r_[constrained, unconstrained[-3:]]\n",
    "\n",
    "    def untransform_params(self, constrained):\n",
    "            # Perform the typical DFM untransformation (w/o the new parameters)\n",
    "            unconstrained = super(ExtendedDFM, self).untransform_params(\n",
    "                constrained[:-3])\n",
    "\n",
    "            # Redo the factor AR unconstrained, since we only want an AR(2),\n",
    "            # and the previous unconstrained was for an AR(4)\n",
    "            ar_params = constrained[self._params_factor_ar]\n",
    "            unconstrained[self._params_factor_ar] = (\n",
    "                tools.unconstrain_stationary_univariate(ar_params))\n",
    "\n",
    "            # Return all the parameters\n",
    "            return np.r_[unconstrained, constrained[-3:]]\n",
    "\n",
    "    def update(self, params, transformed=True, **kwargs):\n",
    "        # Peform the transformation, if required\n",
    "        if not transformed:\n",
    "            params = self.transform_params(params)\n",
    "        params[self._params_factor_zero] = 0\n",
    "\n",
    "        # Now perform the usual DFM update, but exclude our new parameters\n",
    "        super(ExtendedDFM, self).update(params[:-3], transformed=True, **kwargs)\n",
    "\n",
    "        # Finally, set our new parameters in the design matrix\n",
    "        self.ssm['design', 3, 1:4] = params[-3:]"
   ]
  },
  {
   "cell_type": "code",
   "execution_count": 23,
   "metadata": {},
   "outputs": [
    {
     "name": "stderr",
     "output_type": "stream",
     "text": [
      "/home/ekim_reverse/.local/lib/python3.6/site-packages/statsmodels/tsa/base/tsa_model.py:162: ValueWarning: No frequency information was provided, so inferred frequency MS will be used.\n",
      "  % freq, ValueWarning)\n"
     ]
    },
    {
     "name": "stdout",
     "output_type": "stream",
     "text": [
      "Optimization terminated successfully.\n",
      "         Current function value: 4.698612\n",
      "         Iterations: 278\n",
      "         Function evaluations: 469\n",
      "                                             Statespace Model Results                                            \n",
      "=================================================================================================================\n",
      "Dep. Variable:     ['std_indprod', 'std_income', 'std_sales', 'std_emp']   No. Observations:                  431\n",
      "Model:                                 DynamicFactor(factors=1, order=4)   Log Likelihood               -2025.102\n",
      "                                                          + AR(2) errors   AIC                           4096.203\n",
      "Date:                                                   Fri, 22 May 2020   BIC                           4189.724\n",
      "Time:                                                           10:43:36   HQIC                          4133.128\n",
      "Sample:                                                       02-01-1979                                         \n",
      "                                                            - 12-01-2014                                         \n",
      "Covariance Type:                                                     opg                                         \n",
      "====================================================================================================\n",
      "                                       coef    std err          z      P>|z|      [0.025      0.975]\n",
      "----------------------------------------------------------------------------------------------------\n",
      "loading.f1.std_indprod              -0.6889      0.036    -19.109      0.000      -0.760      -0.618\n",
      "loading.f1.std_income               -0.2584      0.038     -6.727      0.000      -0.334      -0.183\n",
      "loading.f1.std_sales                -0.4389      0.024    -18.548      0.000      -0.485      -0.393\n",
      "loading.f1.std_emp                  -0.4166      0.039    -10.760      0.000      -0.493      -0.341\n",
      "sigma2.std_indprod                   0.2456      0.046      5.323      0.000       0.155       0.336\n",
      "sigma2.std_income                    0.8735      0.030     29.556      0.000       0.816       0.931\n",
      "sigma2.std_sales                     0.5347      0.034     15.521      0.000       0.467       0.602\n",
      "sigma2.std_emp                       0.2531      0.024     10.488      0.000       0.206       0.300\n",
      "L1.f1.f1                             0.3047      0.059      5.169      0.000       0.189       0.420\n",
      "L2.f1.f1                             0.3768      0.062      6.076      0.000       0.255       0.498\n",
      "L3.f1.f1                                  0   3.67e-11          0      1.000    -7.2e-11     7.2e-11\n",
      "L4.f1.f1                                  0   3.67e-11          0      1.000    -7.2e-11     7.2e-11\n",
      "L1.e(std_indprod).e(std_indprod)    -0.3203      0.113     -2.828      0.005      -0.542      -0.098\n",
      "L2.e(std_indprod).e(std_indprod)    -0.2253      0.090     -2.496      0.013      -0.402      -0.048\n",
      "L1.e(std_income).e(std_income)      -0.1730      0.022     -7.835      0.000      -0.216      -0.130\n",
      "L2.e(std_income).e(std_income)      -0.0936      0.044     -2.119      0.034      -0.180      -0.007\n",
      "L1.e(std_sales).e(std_sales)        -0.4896      0.046    -10.597      0.000      -0.580      -0.399\n",
      "L2.e(std_sales).e(std_sales)        -0.2268      0.050     -4.540      0.000      -0.325      -0.129\n",
      "L1.e(std_emp).e(std_emp)             0.2334      0.042      5.522      0.000       0.151       0.316\n",
      "L2.e(std_emp).e(std_emp)             0.4965      0.051      9.814      0.000       0.397       0.596\n",
      "loading.L1.f1.std_emp               -0.0725      0.038     -1.898      0.058      -0.147       0.002\n",
      "loading.L2.f1.std_emp                0.0004      0.036      0.012      0.990      -0.070       0.071\n",
      "loading.L3.f1.std_emp               -0.1737      0.028     -6.169      0.000      -0.229      -0.119\n",
      "========================================================================================================\n",
      "Ljung-Box (Q):          59.16, 34.27, 68.30, 61.90   Jarque-Bera (JB):   231.63, 9689.54, 25.36, 3374.62\n",
      "Prob(Q):                    0.03, 0.73, 0.00, 0.01   Prob(JB):                    0.00, 0.00, 0.00, 0.00\n",
      "Heteroskedasticity (H):     0.76, 5.03, 0.44, 0.45   Skew:                       0.22, -0.97, 0.24, 0.75\n",
      "Prob(H) (two-sided):        0.11, 0.00, 0.00, 0.00   Kurtosis:                  6.56, 26.15, 4.08, 16.63\n",
      "========================================================================================================\n",
      "\n",
      "Warnings:\n",
      "[1] Covariance matrix calculated using the outer product of gradients (complex-step).\n",
      "[2] Covariance matrix is singular or near-singular, with condition number 3.87e+17. Standard errors may be unstable.\n"
     ]
    }
   ],
   "source": [
    "# Create the model\n",
    "extended_mod = ExtendedDFM(endog)\n",
    "initial_extended_res = extended_mod.fit(maxiter=1000, disp=False)\n",
    "extended_res = extended_mod.fit(initial_extended_res.params, method='nm', maxiter=1000)\n",
    "print(extended_res.summary(separate_params=False))"
   ]
  },
  {
   "cell_type": "code",
   "execution_count": 24,
   "metadata": {},
   "outputs": [
    {
     "data": {
      "image/png": "[encoded data removed]",
      "text/plain": [
       "<Figure size 576x144 with 1 Axes>"
      ]
     },
     "metadata": {
      "needs_background": "light"
     },
     "output_type": "display_data"
    }
   ],
   "source": [
    "extended_res.plot_coefficients_of_determination(figsize=(8,2));"
   ]
  },
  {
   "cell_type": "code",
   "execution_count": 25,
   "metadata": {},
   "outputs": [
    {
     "data": {
      "image/png": "[encoded data removed]",
      "text/plain": [
       "<Figure size 936x216 with 1 Axes>"
      ]
     },
     "metadata": {
      "needs_background": "light"
     },
     "output_type": "display_data"
    }
   ],
   "source": [
    "fig, ax = plt.subplots(figsize=(13,3))\n",
    "\n",
    "# Compute the index\n",
    "extended_coincident_index = compute_coincident_index(extended_mod, extended_res)\n",
    "\n",
    "# Plot the factor\n",
    "dates = endog.index._mpl_repr()\n",
    "ax.plot(dates, coincident_index, '-', linewidth=1, label='Basic model')\n",
    "ax.plot(dates, extended_coincident_index, '--', linewidth=3, label='Extended model')\n",
    "ax.plot(usphci.index._mpl_repr(), usphci, label='USPHCI')\n",
    "ax.legend(loc='lower right')\n",
    "ax.set(title='Coincident indices, comparison')\n",
    "\n",
    "# Retrieve and also plot the NBER recession indicators\n",
    "ylim = ax.get_ylim()\n",
    "ax.fill_between(dates[:-3], ylim[0], ylim[1], rec.values[:-4,0], facecolor='k', alpha=0.1);\n"
   ]
  },
  {
   "cell_type": "code",
   "execution_count": null,
   "metadata": {},
   "outputs": [],
   "source": []
  }
 ],
 "metadata": {
  "kernelspec": {
   "display_name": "Python 3",
   "language": "python",
   "name": "python3"
  },
  "language_info": {
   "codemirror_mode": {
    "name": "ipython",
    "version": 3
   },
   "file_extension": ".py",
   "mimetype": "text/x-python",
   "name": "python",
   "nbconvert_exporter": "python",
   "pygments_lexer": "ipython3",
   "version": "3.6.9"
  }
 },
 "nbformat": 4,
 "nbformat_minor": 2
}
